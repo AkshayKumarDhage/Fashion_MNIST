{
  "nbformat": 4,
  "nbformat_minor": 0,
  "metadata": {
    "colab": {
      "name": "Fashion_mnist1.ipynb",
      "version": "0.3.2",
      "provenance": [],
      "collapsed_sections": []
    },
    "kernelspec": {
      "name": "python3",
      "display_name": "Python 3"
    },
    "accelerator": "GPU"
  },
  "cells": [
    {
      "metadata": {
        "id": "cV35sLJWE2FM",
        "colab_type": "text"
      },
      "cell_type": "markdown",
      "source": [
        "# Fashion-MNIST :  Predicting clothes category simple CNN in Keras\n",
        "\n",
        "![Fashion image](https://cmkt-image-prd.global.ssl.fastly.net/0.1.0/ps/477194/2417/1608/m1/fpnw/wm1/pattern-with-summer-clothes-.jpg?1431116671&s=a56c9ca0df478c0759afd3eadcac9afe)"
      ]
    },
    {
      "metadata": {
        "id": "8_ywBOgJGdNP",
        "colab_type": "text"
      },
      "cell_type": "markdown",
      "source": [
        "### Importing necessary packages and fashion_mnist dataset"
      ]
    },
    {
      "metadata": {
        "id": "iPKfqiubtIUO",
        "colab_type": "code",
        "colab": {
          "base_uri": "https://localhost:8080/",
          "height": 35
        },
        "outputId": "9be53d48-e6f0-4ecf-f15a-324cec4aae63"
      },
      "cell_type": "code",
      "source": [
        "from keras.datasets import fashion_mnist\n",
        "\n",
        "import numpy as np\n",
        "import matplotlib.pyplot as plt\n",
        "%matplotlib inline"
      ],
      "execution_count": 1,
      "outputs": [
        {
          "output_type": "stream",
          "text": [
            "Using TensorFlow backend.\n"
          ],
          "name": "stderr"
        }
      ]
    },
    {
      "metadata": {
        "id": "KYclpqA5tYfv",
        "colab_type": "code",
        "colab": {}
      },
      "cell_type": "code",
      "source": [
        "(X_train, y_train), (X_test, y_test) = fashion_mnist.load_data()"
      ],
      "execution_count": 0,
      "outputs": []
    },
    {
      "metadata": {
        "id": "6k45r6sst_mg",
        "colab_type": "code",
        "outputId": "1c1aef4e-749c-401d-e0a7-380dd82abb73",
        "colab": {
          "base_uri": "https://localhost:8080/",
          "height": 88
        }
      },
      "cell_type": "code",
      "source": [
        "print(\"Training Images: {}\".format(X_train.shape))\n",
        "print(\"Training labels: {}\".format(y_train.shape))\n",
        "print(\"Test Images: {}\".format(X_test.shape))\n",
        "print(\"Test labels: {}\".format(y_test.shape))"
      ],
      "execution_count": 3,
      "outputs": [
        {
          "output_type": "stream",
          "text": [
            "Training Images: (60000, 28, 28)\n",
            "Training labels: (60000,)\n",
            "Test Images: (10000, 28, 28)\n",
            "Test labels: (10000,)\n"
          ],
          "name": "stdout"
        }
      ]
    },
    {
      "metadata": {
        "id": "0X_YXPfhuaXM",
        "colab_type": "code",
        "outputId": "f9f9e7a3-30d8-4e8e-e015-66f52d922243",
        "colab": {
          "base_uri": "https://localhost:8080/",
          "height": 35
        }
      },
      "cell_type": "code",
      "source": [
        "print('Shape of images: {}'.format(X_train[0].shape))"
      ],
      "execution_count": 4,
      "outputs": [
        {
          "output_type": "stream",
          "text": [
            "Shape of images: (28, 28)\n"
          ],
          "name": "stdout"
        }
      ]
    },
    {
      "metadata": {
        "id": "bwT-wfit6AP8",
        "colab_type": "code",
        "colab": {}
      },
      "cell_type": "code",
      "source": [
        "class_names = [\"T-shirt/top\", \n",
        "               \"Trouser\", \n",
        "               \"Pullover\", \n",
        "               \"Dress\", \n",
        "               \"Coat\", \n",
        "               \"Sandal\", \n",
        "               \"Shirt\", \n",
        "               \"Sneaker\", \n",
        "               \"Bag\", \n",
        "               \"Ankle Boot\"]"
      ],
      "execution_count": 0,
      "outputs": []
    },
    {
      "metadata": {
        "id": "gDPqpk94un6R",
        "colab_type": "code",
        "outputId": "1f96765e-3700-42e2-ff58-f4afc5e8900b",
        "colab": {
          "base_uri": "https://localhost:8080/",
          "height": 590
        }
      },
      "cell_type": "code",
      "source": [
        "plt.figure(figsize = (10, 10))\n",
        "for i in range(20):\n",
        "  plt.subplot(5, 4, i+1)\n",
        "  img = X_train[i]\n",
        "  plt.grid(False)\n",
        "  plt.xticks([])\n",
        "  plt.yticks([])\n",
        "  plt.imshow(img)\n",
        "  plt.title(class_names[y_train[i]])"
      ],
      "execution_count": 6,
      "outputs": [
        {
          "output_type": "display_data",
          "data": {
            "image/png": "[encoded data removed]",
            "text/plain": [
              "<Figure size 720x720 with 20 Axes>"
            ]
          },
          "metadata": {
            "tags": []
          }
        }
      ]
    },
    {
      "metadata": {
        "id": "0EuEkANmvDK2",
        "colab_type": "code",
        "colab": {}
      },
      "cell_type": "code",
      "source": [
        "# Preprocessing the dataset\n",
        "X_train1 = X_train.astype('float32') / 255.0\n",
        "X_test1 = X_test.astype('float32') / 255.0"
      ],
      "execution_count": 0,
      "outputs": []
    },
    {
      "metadata": {
        "id": "IxDRYm8QxMFZ",
        "colab_type": "code",
        "outputId": "1a95d260-232a-4d83-c7cf-a723d5cd951c",
        "colab": {
          "base_uri": "https://localhost:8080/",
          "height": 52
        }
      },
      "cell_type": "code",
      "source": [
        "print(X_train1.shape)\n",
        "print(X_train1[0].shape)"
      ],
      "execution_count": 8,
      "outputs": [
        {
          "output_type": "stream",
          "text": [
            "(60000, 28, 28)\n",
            "(28, 28)\n"
          ],
          "name": "stdout"
        }
      ]
    },
    {
      "metadata": {
        "id": "2lo1TQ2SxRjJ",
        "colab_type": "code",
        "outputId": "7648d76e-d9fa-4527-90eb-b20ea6deb99d",
        "colab": {
          "base_uri": "https://localhost:8080/",
          "height": 300
        }
      },
      "cell_type": "code",
      "source": [
        "import seaborn as sns\n",
        "sns.countplot(y_train)\n",
        "plt.show()"
      ],
      "execution_count": 9,
      "outputs": [
        {
          "output_type": "stream",
          "text": [
            "/usr/local/lib/python3.6/dist-packages/seaborn/categorical.py:1428: FutureWarning: remove_na is deprecated and is a private function. Do not use.\n",
            "  stat_data = remove_na(group_data)\n"
          ],
          "name": "stderr"
        },
        {
          "output_type": "display_data",
          "data": {
            "image/png": "[encoded data removed]",
            "text/plain": [
              "<Figure size 432x288 with 1 Axes>"
            ]
          },
          "metadata": {
            "tags": []
          }
        }
      ]
    },
    {
      "metadata": {
        "id": "8OxfhfzO7DPc",
        "colab_type": "code",
        "colab": {}
      },
      "cell_type": "code",
      "source": [
        "# Further break training data into train / validation sets (# put 5000 into validation set and keep remaining 55,000 for train)\n",
        "(X_train1, X_val1) = X_train1[5000:] , X_train1[:5000]\n",
        "(y_train1, y_val1) = y_train[5000:] , y_train[:5000]"
      ],
      "execution_count": 0,
      "outputs": []
    },
    {
      "metadata": {
        "id": "66EYf7or7k1k",
        "colab_type": "code",
        "colab": {}
      },
      "cell_type": "code",
      "source": [
        "# Reshape input data from (28, 28) to (28, 28, 1)\n",
        "X_train1 = X_train1.reshape(X_train1.shape[0], 28, 28, 1)\n",
        "X_val1 = X_val1.reshape(X_val1.shape[0], 28, 28, 1)\n",
        "X_test1 = X_test1.reshape(X_test1.shape[0], 28, 28, 1)"
      ],
      "execution_count": 0,
      "outputs": []
    },
    {
      "metadata": {
        "id": "npurlf0MxVYg",
        "colab_type": "code",
        "outputId": "b778538e-215b-4bb8-a11c-84b47cbef16a",
        "colab": {
          "base_uri": "https://localhost:8080/",
          "height": 106
        }
      },
      "cell_type": "code",
      "source": [
        "# One-hot encoding\n",
        "from keras.utils import np_utils\n",
        "\n",
        "y_train1 = np_utils.to_categorical(y_train1)\n",
        "y_val1 = np_utils.to_categorical(y_val1)\n",
        "y_test1 = np_utils.to_categorical(y_test)\n",
        "\n",
        "\n",
        "print(\"X_train shape: \",X_train1.shape, \"X_val shape: \",X_val1.shape, \"X_test shape: \",X_test1.shape)\n",
        "print(\"y_train shape: \",y_train1.shape, \"y_val shape: \",y_val1.shape, \"y_test shape: \",y_test1.shape)\n",
        "\n",
        "\n",
        "# Print the number of training, validation, and test datasets\n",
        "print(X_train1.shape[0], 'train set')\n",
        "print(X_val1.shape[0], 'validation set')\n",
        "print(X_test1.shape[0], 'test set')"
      ],
      "execution_count": 12,
      "outputs": [
        {
          "output_type": "stream",
          "text": [
            "X_train shape:  (55000, 28, 28, 1) X_val shape:  (5000, 28, 28, 1) X_test shape:  (10000, 28, 28, 1)\n",
            "y_train shape:  (55000, 10) y_val shape:  (5000, 10) y_test shape:  (10000, 10)\n",
            "55000 train set\n",
            "5000 validation set\n",
            "10000 test set\n"
          ],
          "name": "stdout"
        }
      ]
    },
    {
      "metadata": {
        "id": "xvj34wbA0B0c",
        "colab_type": "code",
        "colab": {}
      },
      "cell_type": "code",
      "source": [
        "\n",
        "# importing  necessary layers\n",
        "from keras.models import Sequential\n",
        "from keras.layers import Dropout, Activation, Conv2D, Flatten, MaxPooling2D, Dense\n",
        "from keras.optimizers import Adam"
      ],
      "execution_count": 0,
      "outputs": []
    },
    {
      "metadata": {
        "id": "FQQh1bj5DQvK",
        "colab_type": "code",
        "colab": {
          "base_uri": "https://localhost:8080/",
          "height": 624
        },
        "outputId": "7a57dedf-019a-4370-c205-17c043b13f3f"
      },
      "cell_type": "code",
      "source": [
        "model = Sequential()\n",
        "\n",
        "# Must define the input shape in the first layer of the neural network\n",
        "model.add(Conv2D(filters=64, kernel_size=2, padding='same', activation='relu', input_shape=(28,28,1))) \n",
        "model.add(MaxPooling2D(pool_size=2))\n",
        "model.add(Dropout(0.3))\n",
        "\n",
        "model.add(Conv2D(filters=32, kernel_size=2, padding='same', activation='relu'))\n",
        "model.add(MaxPooling2D(pool_size=2))\n",
        "model.add(Dropout(0.3))\n",
        "\n",
        "model.add(Flatten())\n",
        "model.add(Dense(256, activation='relu'))\n",
        "model.add(Dropout(0.5))\n",
        "model.add(Dense(10, activation='softmax'))\n",
        "\n",
        "# Take a look at the model summary\n",
        "model.summary()"
      ],
      "execution_count": 14,
      "outputs": [
        {
          "output_type": "stream",
          "text": [
            "WARNING:tensorflow:From /usr/local/lib/python3.6/dist-packages/tensorflow/python/framework/op_def_library.py:263: colocate_with (from tensorflow.python.framework.ops) is deprecated and will be removed in a future version.\n",
            "Instructions for updating:\n",
            "Colocations handled automatically by placer.\n",
            "WARNING:tensorflow:From /usr/local/lib/python3.6/dist-packages/keras/backend/tensorflow_backend.py:3445: calling dropout (from tensorflow.python.ops.nn_ops) with keep_prob is deprecated and will be removed in a future version.\n",
            "Instructions for updating:\n",
            "Please use `rate` instead of `keep_prob`. Rate should be set to `rate = 1 - keep_prob`.\n",
            "_________________________________________________________________\n",
            "Layer (type)                 Output Shape              Param #   \n",
            "=================================================================\n",
            "conv2d_1 (Conv2D)            (None, 28, 28, 64)        320       \n",
            "_________________________________________________________________\n",
            "max_pooling2d_1 (MaxPooling2 (None, 14, 14, 64)        0         \n",
            "_________________________________________________________________\n",
            "dropout_1 (Dropout)          (None, 14, 14, 64)        0         \n",
            "_________________________________________________________________\n",
            "conv2d_2 (Conv2D)            (None, 14, 14, 32)        8224      \n",
            "_________________________________________________________________\n",
            "max_pooling2d_2 (MaxPooling2 (None, 7, 7, 32)          0         \n",
            "_________________________________________________________________\n",
            "dropout_2 (Dropout)          (None, 7, 7, 32)          0         \n",
            "_________________________________________________________________\n",
            "flatten_1 (Flatten)          (None, 1568)              0         \n",
            "_________________________________________________________________\n",
            "dense_1 (Dense)              (None, 256)               401664    \n",
            "_________________________________________________________________\n",
            "dropout_3 (Dropout)          (None, 256)               0         \n",
            "_________________________________________________________________\n",
            "dense_2 (Dense)              (None, 10)                2570      \n",
            "=================================================================\n",
            "Total params: 412,778\n",
            "Trainable params: 412,778\n",
            "Non-trainable params: 0\n",
            "_________________________________________________________________\n"
          ],
          "name": "stdout"
        }
      ]
    },
    {
      "metadata": {
        "id": "BOj97RpLEYPt",
        "colab_type": "code",
        "colab": {}
      },
      "cell_type": "code",
      "source": [
        "model.compile(loss='categorical_crossentropy',\n",
        "             optimizer=Adam(),\n",
        "             metrics=['accuracy'])"
      ],
      "execution_count": 0,
      "outputs": []
    },
    {
      "metadata": {
        "id": "v-9ehpIc_y9T",
        "colab_type": "code",
        "colab": {
          "base_uri": "https://localhost:8080/",
          "height": 837
        },
        "outputId": "c6e8289e-f0eb-4512-9fe3-68f34fb4181f"
      },
      "cell_type": "code",
      "source": [
        "from keras.callbacks import ModelCheckpoint\n",
        "\n",
        "checkpointer = ModelCheckpoint(filepath='model.weights.best.hdf5', verbose = 1, save_best_only=True)\n",
        "model.fit(X_train1,\n",
        "         y_train1,\n",
        "         batch_size=64,\n",
        "         epochs=10,\n",
        "         validation_data=(X_val1, y_val1),\n",
        "         callbacks=[checkpointer])"
      ],
      "execution_count": 16,
      "outputs": [
        {
          "output_type": "stream",
          "text": [
            "WARNING:tensorflow:From /usr/local/lib/python3.6/dist-packages/tensorflow/python/ops/math_ops.py:3066: to_int32 (from tensorflow.python.ops.math_ops) is deprecated and will be removed in a future version.\n",
            "Instructions for updating:\n",
            "Use tf.cast instead.\n",
            "Train on 55000 samples, validate on 5000 samples\n",
            "Epoch 1/10\n",
            "55000/55000 [==============================] - 14s 251us/step - loss: 0.6011 - acc: 0.7774 - val_loss: 0.3729 - val_acc: 0.8674\n",
            "\n",
            "Epoch 00001: val_loss improved from inf to 0.37287, saving model to model.weights.best.hdf5\n",
            "Epoch 2/10\n",
            "55000/55000 [==============================] - 9s 156us/step - loss: 0.4171 - acc: 0.8473 - val_loss: 0.3321 - val_acc: 0.8824\n",
            "\n",
            "Epoch 00002: val_loss improved from 0.37287 to 0.33211, saving model to model.weights.best.hdf5\n",
            "Epoch 3/10\n",
            "55000/55000 [==============================] - 9s 156us/step - loss: 0.3737 - acc: 0.8644 - val_loss: 0.2994 - val_acc: 0.8880\n",
            "\n",
            "Epoch 00003: val_loss improved from 0.33211 to 0.29939, saving model to model.weights.best.hdf5\n",
            "Epoch 4/10\n",
            "55000/55000 [==============================] - 9s 158us/step - loss: 0.3470 - acc: 0.8717 - val_loss: 0.2747 - val_acc: 0.9010\n",
            "\n",
            "Epoch 00004: val_loss improved from 0.29939 to 0.27472, saving model to model.weights.best.hdf5\n",
            "Epoch 5/10\n",
            "55000/55000 [==============================] - 9s 156us/step - loss: 0.3272 - acc: 0.8805 - val_loss: 0.2626 - val_acc: 0.9026\n",
            "\n",
            "Epoch 00005: val_loss improved from 0.27472 to 0.26261, saving model to model.weights.best.hdf5\n",
            "Epoch 6/10\n",
            "55000/55000 [==============================] - 9s 155us/step - loss: 0.3067 - acc: 0.8874 - val_loss: 0.2551 - val_acc: 0.9080\n",
            "\n",
            "Epoch 00006: val_loss improved from 0.26261 to 0.25507, saving model to model.weights.best.hdf5\n",
            "Epoch 7/10\n",
            "55000/55000 [==============================] - 8s 154us/step - loss: 0.2941 - acc: 0.8909 - val_loss: 0.2429 - val_acc: 0.9118\n",
            "\n",
            "Epoch 00007: val_loss improved from 0.25507 to 0.24289, saving model to model.weights.best.hdf5\n",
            "Epoch 8/10\n",
            "55000/55000 [==============================] - 9s 155us/step - loss: 0.2841 - acc: 0.8945 - val_loss: 0.2361 - val_acc: 0.9104\n",
            "\n",
            "Epoch 00008: val_loss improved from 0.24289 to 0.23609, saving model to model.weights.best.hdf5\n",
            "Epoch 9/10\n",
            "55000/55000 [==============================] - 9s 155us/step - loss: 0.2767 - acc: 0.8984 - val_loss: 0.2327 - val_acc: 0.9150\n",
            "\n",
            "Epoch 00009: val_loss improved from 0.23609 to 0.23265, saving model to model.weights.best.hdf5\n",
            "Epoch 10/10\n",
            "55000/55000 [==============================] - 9s 155us/step - loss: 0.2693 - acc: 0.8997 - val_loss: 0.2284 - val_acc: 0.9142\n",
            "\n",
            "Epoch 00010: val_loss improved from 0.23265 to 0.22844, saving model to model.weights.best.hdf5\n"
          ],
          "name": "stdout"
        },
        {
          "output_type": "execute_result",
          "data": {
            "text/plain": [
              "<keras.callbacks.History at 0x7fc0c64fa748>"
            ]
          },
          "metadata": {
            "tags": []
          },
          "execution_count": 16
        }
      ]
    },
    {
      "metadata": {
        "id": "urJOiovmAGLE",
        "colab_type": "code",
        "colab": {}
      },
      "cell_type": "code",
      "source": [
        "# Load the weights with the best validation accuracy\n",
        "model.load_weights('model.weights.best.hdf5')"
      ],
      "execution_count": 0,
      "outputs": []
    },
    {
      "metadata": {
        "id": "blEpikMCA9zF",
        "colab_type": "code",
        "colab": {
          "base_uri": "https://localhost:8080/",
          "height": 52
        },
        "outputId": "22dd1d57-6726-4171-a1d5-910f0d3dbafa"
      },
      "cell_type": "code",
      "source": [
        "# Evaluate the model on test set\n",
        "score = model.evaluate(X_test1, y_test1, verbose=0)\n",
        "\n",
        "# Print test accuracy\n",
        "print('\\n', 'Test accuracy:', score[1])"
      ],
      "execution_count": 18,
      "outputs": [
        {
          "output_type": "stream",
          "text": [
            "\n",
            " Test accuracy: 0.9063\n"
          ],
          "name": "stdout"
        }
      ]
    },
    {
      "metadata": {
        "id": "Ht-HIL8aBFv7",
        "colab_type": "code",
        "colab": {}
      },
      "cell_type": "code",
      "source": [
        "y_pred = model.predict(X_test1)"
      ],
      "execution_count": 0,
      "outputs": []
    },
    {
      "metadata": {
        "id": "uhH-nn2oBxxw",
        "colab_type": "code",
        "colab": {
          "base_uri": "https://localhost:8080/",
          "height": 481
        },
        "outputId": "00167db4-ab61-441e-c64c-5a8244c9b59f"
      },
      "cell_type": "code",
      "source": [
        "# Plot a random sample of 10 test images, their predicted labels and ground truth\n",
        "figure = plt.figure(figsize=(20, 8))\n",
        "\n",
        "for i, index in enumerate(np.random.choice(X_test1.shape[0], size=15, replace=False)):\n",
        "  \n",
        "    ax = figure.add_subplot(3, 5, i + 1, xticks=[], yticks=[])\n",
        "    \n",
        "    # Display each image\n",
        "    ax.imshow(np.squeeze(X_test1[index]))\n",
        "    predict_index = np.argmax(y_pred[index])\n",
        "    true_index = np.argmax(y_test1[index])\n",
        "    \n",
        "    # Set the title for each image\n",
        "    ax.set_title(\"{} ({})\".format(class_names[predict_index], \n",
        "                                  class_names[true_index]),\n",
        "                                  color=(\"green\" if predict_index == true_index else \"red\"))"
      ],
      "execution_count": 23,
      "outputs": [
        {
          "output_type": "display_data",
          "data": {
            "image/png": "[encoded data removed]",
            "text/plain": [
              "<Figure size 1440x576 with 15 Axes>"
            ]
          },
          "metadata": {
            "tags": []
          }
        }
      ]
    },
    {
      "metadata": {
        "id": "wId7uhY2DZuh",
        "colab_type": "code",
        "colab": {}
      },
      "cell_type": "code",
      "source": [
        ""
      ],
      "execution_count": 0,
      "outputs": []
    },
    {
      "metadata": {
        "id": "pA9lanYGHBE8",
        "colab_type": "text"
      },
      "cell_type": "markdown",
      "source": [
        "## Conclusion: Successfully trained CNN model to classify fashion_MNIST with near 90% accuracy."
      ]
    },
    {
      "metadata": {
        "id": "liJv8nC0HWbB",
        "colab_type": "code",
        "colab": {}
      },
      "cell_type": "code",
      "source": [
        ""
      ],
      "execution_count": 0,
      "outputs": []
    }
  ]
}